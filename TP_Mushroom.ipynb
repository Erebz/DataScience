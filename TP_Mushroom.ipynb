{
 "cells": [
  {
   "cell_type": "markdown",
   "id": "f1fa8d53",
   "metadata": {},
   "source": [
    "# TP Data Science - Apprentissage Surpevisé\n",
    "\n",
    "\n",
    "## Etude du jeu de données \"Mushroom\""
   ]
  },
  {
   "cell_type": "code",
   "execution_count": 2,
   "id": "d1b0fec9",
   "metadata": {},
   "outputs": [],
   "source": [
    "# Import des librairies\n",
    "import numpy as np\n",
    "import pandas as pd\n",
    "\n",
    "import matplotlib.pyplot as plt\n",
    "import graphviz\n",
    "plt.ion()\n",
    "\n",
    "from sklearn.model_selection import train_test_split\n",
    "from sklearn.discriminant_analysis import LinearDiscriminantAnalysis\n",
    "from sklearn.neural_network import MLPClassifier, MLPRegressor\n",
    "from sklearn.neighbors import KNeighborsClassifier as KNN\n",
    "from sklearn.preprocessing import StandardScaler\n",
    "from sklearn.ensemble import RandomForestClassifier\n",
    "from sklearn import linear_model\n",
    "from sklearn import tree\n",
    "from sklearn.metrics import mean_squared_error\n",
    "from sklearn.metrics import precision_recall_fscore_support\n",
    "from sklearn.metrics import roc_curve, roc_auc_score\n",
    "\n",
    "import seaborn as sns\n",
    "\n",
    "from statsmodels.stats.outliers_influence import variance_inflation_factor\n",
    "plt.style.use('seaborn-darkgrid')"
   ]
  },
  {
   "cell_type": "markdown",
   "id": "a390aa8f",
   "metadata": {},
   "source": [
    "## Données"
   ]
  },
  {
   "cell_type": "code",
   "execution_count": 85,
   "id": "c4af7e8b",
   "metadata": {},
   "outputs": [
    {
     "name": "stdout",
     "output_type": "stream",
     "text": [
      "Nombre de colonnes : 23\n",
      "Nombre de lignes : 8124\n"
     ]
    },
    {
     "data": {
      "text/html": [
       "<div>\n",
       "<style scoped>\n",
       "    .dataframe tbody tr th:only-of-type {\n",
       "        vertical-align: middle;\n",
       "    }\n",
       "\n",
       "    .dataframe tbody tr th {\n",
       "        vertical-align: top;\n",
       "    }\n",
       "\n",
       "    .dataframe thead th {\n",
       "        text-align: right;\n",
       "    }\n",
       "</style>\n",
       "<table border=\"1\" class=\"dataframe\">\n",
       "  <thead>\n",
       "    <tr style=\"text-align: right;\">\n",
       "      <th></th>\n",
       "      <th>class</th>\n",
       "      <th>cap-shape</th>\n",
       "      <th>cap-surface</th>\n",
       "      <th>cap-color</th>\n",
       "      <th>bruises</th>\n",
       "      <th>odor</th>\n",
       "      <th>gill-attachment</th>\n",
       "      <th>gill-spacing</th>\n",
       "      <th>gill-size</th>\n",
       "      <th>gill-color</th>\n",
       "      <th>...</th>\n",
       "      <th>stalk-surface-below-ring</th>\n",
       "      <th>stalk-color-above-ring</th>\n",
       "      <th>stalk-color-below-ring</th>\n",
       "      <th>veil-type</th>\n",
       "      <th>veil-color</th>\n",
       "      <th>ring-number</th>\n",
       "      <th>ring-type</th>\n",
       "      <th>spore-print-color</th>\n",
       "      <th>population</th>\n",
       "      <th>habitat</th>\n",
       "    </tr>\n",
       "  </thead>\n",
       "  <tbody>\n",
       "    <tr>\n",
       "      <th>0</th>\n",
       "      <td>p</td>\n",
       "      <td>x</td>\n",
       "      <td>s</td>\n",
       "      <td>n</td>\n",
       "      <td>t</td>\n",
       "      <td>p</td>\n",
       "      <td>f</td>\n",
       "      <td>c</td>\n",
       "      <td>n</td>\n",
       "      <td>k</td>\n",
       "      <td>...</td>\n",
       "      <td>s</td>\n",
       "      <td>w</td>\n",
       "      <td>w</td>\n",
       "      <td>p</td>\n",
       "      <td>w</td>\n",
       "      <td>o</td>\n",
       "      <td>p</td>\n",
       "      <td>k</td>\n",
       "      <td>s</td>\n",
       "      <td>u</td>\n",
       "    </tr>\n",
       "    <tr>\n",
       "      <th>1</th>\n",
       "      <td>e</td>\n",
       "      <td>x</td>\n",
       "      <td>s</td>\n",
       "      <td>y</td>\n",
       "      <td>t</td>\n",
       "      <td>a</td>\n",
       "      <td>f</td>\n",
       "      <td>c</td>\n",
       "      <td>b</td>\n",
       "      <td>k</td>\n",
       "      <td>...</td>\n",
       "      <td>s</td>\n",
       "      <td>w</td>\n",
       "      <td>w</td>\n",
       "      <td>p</td>\n",
       "      <td>w</td>\n",
       "      <td>o</td>\n",
       "      <td>p</td>\n",
       "      <td>n</td>\n",
       "      <td>n</td>\n",
       "      <td>g</td>\n",
       "    </tr>\n",
       "    <tr>\n",
       "      <th>2</th>\n",
       "      <td>e</td>\n",
       "      <td>b</td>\n",
       "      <td>s</td>\n",
       "      <td>w</td>\n",
       "      <td>t</td>\n",
       "      <td>l</td>\n",
       "      <td>f</td>\n",
       "      <td>c</td>\n",
       "      <td>b</td>\n",
       "      <td>n</td>\n",
       "      <td>...</td>\n",
       "      <td>s</td>\n",
       "      <td>w</td>\n",
       "      <td>w</td>\n",
       "      <td>p</td>\n",
       "      <td>w</td>\n",
       "      <td>o</td>\n",
       "      <td>p</td>\n",
       "      <td>n</td>\n",
       "      <td>n</td>\n",
       "      <td>m</td>\n",
       "    </tr>\n",
       "    <tr>\n",
       "      <th>3</th>\n",
       "      <td>p</td>\n",
       "      <td>x</td>\n",
       "      <td>y</td>\n",
       "      <td>w</td>\n",
       "      <td>t</td>\n",
       "      <td>p</td>\n",
       "      <td>f</td>\n",
       "      <td>c</td>\n",
       "      <td>n</td>\n",
       "      <td>n</td>\n",
       "      <td>...</td>\n",
       "      <td>s</td>\n",
       "      <td>w</td>\n",
       "      <td>w</td>\n",
       "      <td>p</td>\n",
       "      <td>w</td>\n",
       "      <td>o</td>\n",
       "      <td>p</td>\n",
       "      <td>k</td>\n",
       "      <td>s</td>\n",
       "      <td>u</td>\n",
       "    </tr>\n",
       "    <tr>\n",
       "      <th>4</th>\n",
       "      <td>e</td>\n",
       "      <td>x</td>\n",
       "      <td>s</td>\n",
       "      <td>g</td>\n",
       "      <td>f</td>\n",
       "      <td>n</td>\n",
       "      <td>f</td>\n",
       "      <td>w</td>\n",
       "      <td>b</td>\n",
       "      <td>k</td>\n",
       "      <td>...</td>\n",
       "      <td>s</td>\n",
       "      <td>w</td>\n",
       "      <td>w</td>\n",
       "      <td>p</td>\n",
       "      <td>w</td>\n",
       "      <td>o</td>\n",
       "      <td>e</td>\n",
       "      <td>n</td>\n",
       "      <td>a</td>\n",
       "      <td>g</td>\n",
       "    </tr>\n",
       "    <tr>\n",
       "      <th>...</th>\n",
       "      <td>...</td>\n",
       "      <td>...</td>\n",
       "      <td>...</td>\n",
       "      <td>...</td>\n",
       "      <td>...</td>\n",
       "      <td>...</td>\n",
       "      <td>...</td>\n",
       "      <td>...</td>\n",
       "      <td>...</td>\n",
       "      <td>...</td>\n",
       "      <td>...</td>\n",
       "      <td>...</td>\n",
       "      <td>...</td>\n",
       "      <td>...</td>\n",
       "      <td>...</td>\n",
       "      <td>...</td>\n",
       "      <td>...</td>\n",
       "      <td>...</td>\n",
       "      <td>...</td>\n",
       "      <td>...</td>\n",
       "      <td>...</td>\n",
       "    </tr>\n",
       "    <tr>\n",
       "      <th>8119</th>\n",
       "      <td>e</td>\n",
       "      <td>k</td>\n",
       "      <td>s</td>\n",
       "      <td>n</td>\n",
       "      <td>f</td>\n",
       "      <td>n</td>\n",
       "      <td>a</td>\n",
       "      <td>c</td>\n",
       "      <td>b</td>\n",
       "      <td>y</td>\n",
       "      <td>...</td>\n",
       "      <td>s</td>\n",
       "      <td>o</td>\n",
       "      <td>o</td>\n",
       "      <td>p</td>\n",
       "      <td>o</td>\n",
       "      <td>o</td>\n",
       "      <td>p</td>\n",
       "      <td>b</td>\n",
       "      <td>c</td>\n",
       "      <td>l</td>\n",
       "    </tr>\n",
       "    <tr>\n",
       "      <th>8120</th>\n",
       "      <td>e</td>\n",
       "      <td>x</td>\n",
       "      <td>s</td>\n",
       "      <td>n</td>\n",
       "      <td>f</td>\n",
       "      <td>n</td>\n",
       "      <td>a</td>\n",
       "      <td>c</td>\n",
       "      <td>b</td>\n",
       "      <td>y</td>\n",
       "      <td>...</td>\n",
       "      <td>s</td>\n",
       "      <td>o</td>\n",
       "      <td>o</td>\n",
       "      <td>p</td>\n",
       "      <td>n</td>\n",
       "      <td>o</td>\n",
       "      <td>p</td>\n",
       "      <td>b</td>\n",
       "      <td>v</td>\n",
       "      <td>l</td>\n",
       "    </tr>\n",
       "    <tr>\n",
       "      <th>8121</th>\n",
       "      <td>e</td>\n",
       "      <td>f</td>\n",
       "      <td>s</td>\n",
       "      <td>n</td>\n",
       "      <td>f</td>\n",
       "      <td>n</td>\n",
       "      <td>a</td>\n",
       "      <td>c</td>\n",
       "      <td>b</td>\n",
       "      <td>n</td>\n",
       "      <td>...</td>\n",
       "      <td>s</td>\n",
       "      <td>o</td>\n",
       "      <td>o</td>\n",
       "      <td>p</td>\n",
       "      <td>o</td>\n",
       "      <td>o</td>\n",
       "      <td>p</td>\n",
       "      <td>b</td>\n",
       "      <td>c</td>\n",
       "      <td>l</td>\n",
       "    </tr>\n",
       "    <tr>\n",
       "      <th>8122</th>\n",
       "      <td>p</td>\n",
       "      <td>k</td>\n",
       "      <td>y</td>\n",
       "      <td>n</td>\n",
       "      <td>f</td>\n",
       "      <td>y</td>\n",
       "      <td>f</td>\n",
       "      <td>c</td>\n",
       "      <td>n</td>\n",
       "      <td>b</td>\n",
       "      <td>...</td>\n",
       "      <td>k</td>\n",
       "      <td>w</td>\n",
       "      <td>w</td>\n",
       "      <td>p</td>\n",
       "      <td>w</td>\n",
       "      <td>o</td>\n",
       "      <td>e</td>\n",
       "      <td>w</td>\n",
       "      <td>v</td>\n",
       "      <td>l</td>\n",
       "    </tr>\n",
       "    <tr>\n",
       "      <th>8123</th>\n",
       "      <td>e</td>\n",
       "      <td>x</td>\n",
       "      <td>s</td>\n",
       "      <td>n</td>\n",
       "      <td>f</td>\n",
       "      <td>n</td>\n",
       "      <td>a</td>\n",
       "      <td>c</td>\n",
       "      <td>b</td>\n",
       "      <td>y</td>\n",
       "      <td>...</td>\n",
       "      <td>s</td>\n",
       "      <td>o</td>\n",
       "      <td>o</td>\n",
       "      <td>p</td>\n",
       "      <td>o</td>\n",
       "      <td>o</td>\n",
       "      <td>p</td>\n",
       "      <td>o</td>\n",
       "      <td>c</td>\n",
       "      <td>l</td>\n",
       "    </tr>\n",
       "  </tbody>\n",
       "</table>\n",
       "<p>8124 rows × 23 columns</p>\n",
       "</div>"
      ],
      "text/plain": [
       "     class cap-shape cap-surface cap-color bruises odor gill-attachment  \\\n",
       "0        p         x           s         n       t    p               f   \n",
       "1        e         x           s         y       t    a               f   \n",
       "2        e         b           s         w       t    l               f   \n",
       "3        p         x           y         w       t    p               f   \n",
       "4        e         x           s         g       f    n               f   \n",
       "...    ...       ...         ...       ...     ...  ...             ...   \n",
       "8119     e         k           s         n       f    n               a   \n",
       "8120     e         x           s         n       f    n               a   \n",
       "8121     e         f           s         n       f    n               a   \n",
       "8122     p         k           y         n       f    y               f   \n",
       "8123     e         x           s         n       f    n               a   \n",
       "\n",
       "     gill-spacing gill-size gill-color  ... stalk-surface-below-ring  \\\n",
       "0               c         n          k  ...                        s   \n",
       "1               c         b          k  ...                        s   \n",
       "2               c         b          n  ...                        s   \n",
       "3               c         n          n  ...                        s   \n",
       "4               w         b          k  ...                        s   \n",
       "...           ...       ...        ...  ...                      ...   \n",
       "8119            c         b          y  ...                        s   \n",
       "8120            c         b          y  ...                        s   \n",
       "8121            c         b          n  ...                        s   \n",
       "8122            c         n          b  ...                        k   \n",
       "8123            c         b          y  ...                        s   \n",
       "\n",
       "     stalk-color-above-ring stalk-color-below-ring veil-type veil-color  \\\n",
       "0                         w                      w         p          w   \n",
       "1                         w                      w         p          w   \n",
       "2                         w                      w         p          w   \n",
       "3                         w                      w         p          w   \n",
       "4                         w                      w         p          w   \n",
       "...                     ...                    ...       ...        ...   \n",
       "8119                      o                      o         p          o   \n",
       "8120                      o                      o         p          n   \n",
       "8121                      o                      o         p          o   \n",
       "8122                      w                      w         p          w   \n",
       "8123                      o                      o         p          o   \n",
       "\n",
       "     ring-number ring-type spore-print-color population habitat  \n",
       "0              o         p                 k          s       u  \n",
       "1              o         p                 n          n       g  \n",
       "2              o         p                 n          n       m  \n",
       "3              o         p                 k          s       u  \n",
       "4              o         e                 n          a       g  \n",
       "...          ...       ...               ...        ...     ...  \n",
       "8119           o         p                 b          c       l  \n",
       "8120           o         p                 b          v       l  \n",
       "8121           o         p                 b          c       l  \n",
       "8122           o         e                 w          v       l  \n",
       "8123           o         p                 o          c       l  \n",
       "\n",
       "[8124 rows x 23 columns]"
      ]
     },
     "execution_count": 85,
     "metadata": {},
     "output_type": "execute_result"
    }
   ],
   "source": [
    "# Import\n",
    "df_mushrooms = pd.read_csv('data/df_mushrooms.csv', delimiter = ';')\n",
    "print(\"Nombre de colonnes :\", len(df_mushrooms.columns))\n",
    "print(\"Nombre de lignes :\", len(df_mushrooms.values))\n",
    "df_mushrooms"
   ]
  },
  {
   "cell_type": "code",
   "execution_count": 86,
   "id": "a2c2cef0",
   "metadata": {},
   "outputs": [
    {
     "name": "stdout",
     "output_type": "stream",
     "text": [
      "Classes étudiées : ['p' 'e']\n"
     ]
    },
    {
     "data": {
      "text/plain": [
       "e    4208\n",
       "p    3916\n",
       "Name: class, dtype: int64"
      ]
     },
     "execution_count": 86,
     "metadata": {},
     "output_type": "execute_result"
    }
   ],
   "source": [
    "# Séparation des observations et classe\n",
    "X = df_mushrooms.drop('class', axis = 1)\n",
    "y = df_mushrooms['class']\n",
    "\n",
    "# Codage des classes : edible = 0, poisonous = 1 \n",
    "print(\"Classes étudiées :\", pd.unique(y))\n",
    "y = y.replace('e', 0)\n",
    "y = y.replace('p', 1)\n",
    "\n",
    "df_mushrooms['class'].value_counts()"
   ]
  },
  {
   "cell_type": "code",
   "execution_count": 87,
   "id": "4aad6a07",
   "metadata": {},
   "outputs": [
    {
     "name": "stdout",
     "output_type": "stream",
     "text": [
      "Valeurs possibles pour chaque feature :\n",
      "cap-shape : ['x' 'b' 's' 'f' 'k' 'c']\n",
      "cap-surface : ['s' 'y' 'f' 'g']\n",
      "cap-color : ['n' 'y' 'w' 'g' 'e' 'p' 'b' 'u' 'c' 'r']\n",
      "bruises : ['t' 'f']\n",
      "odor : ['p' 'a' 'l' 'n' 'f' 'c' 'y' 's' 'm']\n",
      "gill-attachment : ['f' 'a']\n",
      "gill-spacing : ['c' 'w']\n",
      "gill-size : ['n' 'b']\n",
      "gill-color : ['k' 'n' 'g' 'p' 'w' 'h' 'u' 'e' 'b' 'r' 'y' 'o']\n",
      "stalk-shape : ['e' 't']\n",
      "stalk-root : ['e' 'c' 'b' 'r' '?']\n",
      "stalk-surface-above-ring : ['s' 'f' 'k' 'y']\n",
      "stalk-surface-below-ring : ['s' 'f' 'y' 'k']\n",
      "stalk-color-above-ring : ['w' 'g' 'p' 'n' 'b' 'e' 'o' 'c' 'y']\n",
      "stalk-color-below-ring : ['w' 'p' 'g' 'b' 'n' 'e' 'y' 'o' 'c']\n",
      "veil-type : ['p']\n",
      "veil-color : ['w' 'n' 'o' 'y']\n",
      "ring-number : ['o' 't' 'n']\n",
      "ring-type : ['p' 'e' 'l' 'f' 'n']\n",
      "spore-print-color : ['k' 'n' 'u' 'h' 'w' 'r' 'o' 'y' 'b']\n",
      "population : ['s' 'n' 'a' 'v' 'y' 'c']\n",
      "habitat : ['u' 'g' 'm' 'd' 'p' 'w' 'l']\n"
     ]
    }
   ],
   "source": [
    "print(\"Valeurs possibles pour chaque feature :\")\n",
    "for x in X:\n",
    "    print(\"{} : {}\".format(x, pd.unique(X[x])))"
   ]
  },
  {
   "cell_type": "markdown",
   "id": "a700fff4",
   "metadata": {},
   "source": [
    "<font size=\"1\">\n",
    "    Prenons connaissance de la signification des features :\n",
    "    \n",
    "- **cap-shape**: bell=b,conical=c,convex=x,flat=f, knobbed=k,sunken=s\n",
    "- **cap-surface**: fibrous=f,grooves=g,scaly=y,smooth=s\n",
    "- **cap-color**: brown=n,buff=b,cinnamon=c,gray=g,green=r,pink=p,purple=u,red=e,white=w,yellow=y\n",
    "- **bruises**: bruises=t,no=f\n",
    "- **odor**: almond=a,anise=l,creosote=c,fishy=y,foul=f,musty=m,none=n,pungent=p,spicy=s\n",
    "- **gill-attachment**: attached=a,descending=d,free=f,notched=n\n",
    "- **gill-spacing** close=c,crowded=w,distant=d\n",
    "- **gill-size**: broad=b,narrow=n\n",
    "- **gill-color**: black=k,brown=n,buff=b,chocolate=h,gray=g,green=r,orange=o, pink=p,purple=u,red=e,white=w,yellow=y\n",
    "- **stalk-shape**: enlarging=e,tapering=t\n",
    "- **stalk-root**: bulbous=b,club=c,cup=u,equal=e,rhizomorphs=z,rooted=r,missing=?\n",
    "- **stalk-surface-above-ring**: fibrous=f,scaly=y,silky=k,smooth=s\n",
    "- **stalk-surface-below-ring**: fibrous=f,scaly=y,silky=k,smooth=s\n",
    "- **stalk-color-above-ring**: brown=n,buff=b,cinnamon=c,gray=g,orange=o,pink=p,red=e,white=w,yellow=y\n",
    "- **stalk-color-below-ring**: brown=n,buff=b,cinnamon=c,gray=g,orange=o,pink=p,red=e,white=w,yellow=y\n",
    "- **veil-type**: partial=p,universal=u\n",
    "- **veil-color**: brown=n,orange=o,white=w,yellow=y\n",
    "- **ring-number**: none=n,one=o,two=t\n",
    "- **ring-type**: cobwebby=c,evanescent=e,flaring=f,large=l,none=n,pendant=p,sheathing=s,zone=z\n",
    "- **spore-print-color**: black=k,brown=n,buff=b,chocolate=h,green=r,orange=o,purple=u,white=w,yellow=y\n",
    "- **population**: abundant=a,clustered=c,numerous=n,scattered=s,several=v,solitary=y\n",
    "- **habitat**: grasses=g,leaves=l,meadows=m,paths=p,urban=u,waste=w,woods=d\n",
    "</font>"
   ]
  },
  {
   "cell_type": "markdown",
   "id": "46f642e1",
   "metadata": {},
   "source": [
    "La colonne *veil-type* est constante dans notre jeu de donnée. On doit la retirer car elle n'ajoute aucune information et risque d'influencer négativement nos modèles."
   ]
  },
  {
   "cell_type": "code",
   "execution_count": 88,
   "id": "efb3c236",
   "metadata": {},
   "outputs": [],
   "source": [
    "X = X.drop('veil-type', axis = 1)"
   ]
  },
  {
   "cell_type": "markdown",
   "id": "d1f94c01",
   "metadata": {},
   "source": [
    "## Encodage des données quantitatives<br>\n",
    "\n",
    "Pour pouvoir manipuler les données, il est nécessaire de transformer les données quantitatives en données qualitatives. Pour cela, on encode les observations selon cette logique :\n",
    "\n",
    "1. On regarde le nombre de valeurs pouvant être prise par chaque feature.\n",
    "2. On considère chaque feature comme un vecteur de cette taille.\n",
    "3. Une observation sera un vecteur dont la composante associée vaudra 1 et les autres 0.\n",
    "\n",
    "> Exemple : feature *cap-surface*\n",
    "> 1. Cette feature a 4 valeurs possibles : [s, y, f, g]\n",
    "> 2. Le vecteur de cette feature est de taille 4\n",
    "> 3. L'observation 's' sera codée : [1, 0, 0, 0]\n",
    "\n",
    "Une fonction fournie par la librairie pandas permet de résumer toute cette logique en une seule opération, et éclate chaque vecteur en plusieurs colonnes :"
   ]
  },
  {
   "cell_type": "code",
   "execution_count": 89,
   "id": "6ea32c1a",
   "metadata": {},
   "outputs": [
    {
     "data": {
      "text/html": [
       "<div>\n",
       "<style scoped>\n",
       "    .dataframe tbody tr th:only-of-type {\n",
       "        vertical-align: middle;\n",
       "    }\n",
       "\n",
       "    .dataframe tbody tr th {\n",
       "        vertical-align: top;\n",
       "    }\n",
       "\n",
       "    .dataframe thead th {\n",
       "        text-align: right;\n",
       "    }\n",
       "</style>\n",
       "<table border=\"1\" class=\"dataframe\">\n",
       "  <thead>\n",
       "    <tr style=\"text-align: right;\">\n",
       "      <th></th>\n",
       "      <th>cap-shape_b</th>\n",
       "      <th>cap-shape_c</th>\n",
       "      <th>cap-shape_f</th>\n",
       "      <th>cap-shape_k</th>\n",
       "      <th>cap-shape_s</th>\n",
       "      <th>cap-shape_x</th>\n",
       "      <th>cap-surface_f</th>\n",
       "      <th>cap-surface_g</th>\n",
       "      <th>cap-surface_s</th>\n",
       "      <th>cap-surface_y</th>\n",
       "      <th>...</th>\n",
       "      <th>population_s</th>\n",
       "      <th>population_v</th>\n",
       "      <th>population_y</th>\n",
       "      <th>habitat_d</th>\n",
       "      <th>habitat_g</th>\n",
       "      <th>habitat_l</th>\n",
       "      <th>habitat_m</th>\n",
       "      <th>habitat_p</th>\n",
       "      <th>habitat_u</th>\n",
       "      <th>habitat_w</th>\n",
       "    </tr>\n",
       "  </thead>\n",
       "  <tbody>\n",
       "    <tr>\n",
       "      <th>0</th>\n",
       "      <td>0</td>\n",
       "      <td>0</td>\n",
       "      <td>0</td>\n",
       "      <td>0</td>\n",
       "      <td>0</td>\n",
       "      <td>1</td>\n",
       "      <td>0</td>\n",
       "      <td>0</td>\n",
       "      <td>1</td>\n",
       "      <td>0</td>\n",
       "      <td>...</td>\n",
       "      <td>1</td>\n",
       "      <td>0</td>\n",
       "      <td>0</td>\n",
       "      <td>0</td>\n",
       "      <td>0</td>\n",
       "      <td>0</td>\n",
       "      <td>0</td>\n",
       "      <td>0</td>\n",
       "      <td>1</td>\n",
       "      <td>0</td>\n",
       "    </tr>\n",
       "    <tr>\n",
       "      <th>1</th>\n",
       "      <td>0</td>\n",
       "      <td>0</td>\n",
       "      <td>0</td>\n",
       "      <td>0</td>\n",
       "      <td>0</td>\n",
       "      <td>1</td>\n",
       "      <td>0</td>\n",
       "      <td>0</td>\n",
       "      <td>1</td>\n",
       "      <td>0</td>\n",
       "      <td>...</td>\n",
       "      <td>0</td>\n",
       "      <td>0</td>\n",
       "      <td>0</td>\n",
       "      <td>0</td>\n",
       "      <td>1</td>\n",
       "      <td>0</td>\n",
       "      <td>0</td>\n",
       "      <td>0</td>\n",
       "      <td>0</td>\n",
       "      <td>0</td>\n",
       "    </tr>\n",
       "    <tr>\n",
       "      <th>2</th>\n",
       "      <td>1</td>\n",
       "      <td>0</td>\n",
       "      <td>0</td>\n",
       "      <td>0</td>\n",
       "      <td>0</td>\n",
       "      <td>0</td>\n",
       "      <td>0</td>\n",
       "      <td>0</td>\n",
       "      <td>1</td>\n",
       "      <td>0</td>\n",
       "      <td>...</td>\n",
       "      <td>0</td>\n",
       "      <td>0</td>\n",
       "      <td>0</td>\n",
       "      <td>0</td>\n",
       "      <td>0</td>\n",
       "      <td>0</td>\n",
       "      <td>1</td>\n",
       "      <td>0</td>\n",
       "      <td>0</td>\n",
       "      <td>0</td>\n",
       "    </tr>\n",
       "    <tr>\n",
       "      <th>3</th>\n",
       "      <td>0</td>\n",
       "      <td>0</td>\n",
       "      <td>0</td>\n",
       "      <td>0</td>\n",
       "      <td>0</td>\n",
       "      <td>1</td>\n",
       "      <td>0</td>\n",
       "      <td>0</td>\n",
       "      <td>0</td>\n",
       "      <td>1</td>\n",
       "      <td>...</td>\n",
       "      <td>1</td>\n",
       "      <td>0</td>\n",
       "      <td>0</td>\n",
       "      <td>0</td>\n",
       "      <td>0</td>\n",
       "      <td>0</td>\n",
       "      <td>0</td>\n",
       "      <td>0</td>\n",
       "      <td>1</td>\n",
       "      <td>0</td>\n",
       "    </tr>\n",
       "    <tr>\n",
       "      <th>4</th>\n",
       "      <td>0</td>\n",
       "      <td>0</td>\n",
       "      <td>0</td>\n",
       "      <td>0</td>\n",
       "      <td>0</td>\n",
       "      <td>1</td>\n",
       "      <td>0</td>\n",
       "      <td>0</td>\n",
       "      <td>1</td>\n",
       "      <td>0</td>\n",
       "      <td>...</td>\n",
       "      <td>0</td>\n",
       "      <td>0</td>\n",
       "      <td>0</td>\n",
       "      <td>0</td>\n",
       "      <td>1</td>\n",
       "      <td>0</td>\n",
       "      <td>0</td>\n",
       "      <td>0</td>\n",
       "      <td>0</td>\n",
       "      <td>0</td>\n",
       "    </tr>\n",
       "  </tbody>\n",
       "</table>\n",
       "<p>5 rows × 116 columns</p>\n",
       "</div>"
      ],
      "text/plain": [
       "   cap-shape_b  cap-shape_c  cap-shape_f  cap-shape_k  cap-shape_s  \\\n",
       "0            0            0            0            0            0   \n",
       "1            0            0            0            0            0   \n",
       "2            1            0            0            0            0   \n",
       "3            0            0            0            0            0   \n",
       "4            0            0            0            0            0   \n",
       "\n",
       "   cap-shape_x  cap-surface_f  cap-surface_g  cap-surface_s  cap-surface_y  \\\n",
       "0            1              0              0              1              0   \n",
       "1            1              0              0              1              0   \n",
       "2            0              0              0              1              0   \n",
       "3            1              0              0              0              1   \n",
       "4            1              0              0              1              0   \n",
       "\n",
       "   ...  population_s  population_v  population_y  habitat_d  habitat_g  \\\n",
       "0  ...             1             0             0          0          0   \n",
       "1  ...             0             0             0          0          1   \n",
       "2  ...             0             0             0          0          0   \n",
       "3  ...             1             0             0          0          0   \n",
       "4  ...             0             0             0          0          1   \n",
       "\n",
       "   habitat_l  habitat_m  habitat_p  habitat_u  habitat_w  \n",
       "0          0          0          0          1          0  \n",
       "1          0          0          0          0          0  \n",
       "2          0          1          0          0          0  \n",
       "3          0          0          0          1          0  \n",
       "4          0          0          0          0          0  \n",
       "\n",
       "[5 rows x 116 columns]"
      ]
     },
     "execution_count": 89,
     "metadata": {},
     "output_type": "execute_result"
    }
   ],
   "source": [
    "X_qual = pd.get_dummies(X, prefix_sep='_')\n",
    "X_qual.head()"
   ]
  },
  {
   "cell_type": "markdown",
   "id": "faf539bd",
   "metadata": {},
   "source": [
    "## Sélection des features\n",
    "\n",
    "Notre modélisation a fortement augmenté le nombre de features. Afin d'assurer la fiabilité de notre analyse, il est nécessaire de sélectionner les features les plus importantes. Ceci aura pour effet de généraliser notre analyse et de réduire le sur-apprentissage. Dans le TP précédent, nous avions réalisé une sélection manuelle selon les histogrammes des valeurs, suivie d'une analyse de la multi-colinéarité + VIF. Ici, nous nous intéresserons à une méthode très populaire en machine learning : les Random Forest. \n",
    "\n",
    "### Sélection par Random Forest\n",
    "\n",
    "De fait de leur construction, les Random Forest permettent de bonnes prédictions en limitant le sur-apprentissage. De plus, ils permettent de faire remonter les features importantes : les features se trouvant dans la partie supérieure des arbres fournissent beaucoup d'informations car elles séparent la décision en deux, ce qui est par définition signe d'une feature a priori très pertinente.\n",
    "\n",
    "> **Méthode :**\n",
    "> 1. Entrainer le modèle Random Forest sur les données d'entrainement\n",
    "> 2. Récupérer le taux d'importance chaque feature dans les Decision Tree.\n",
    "> 3. Conserver les features selon un certain seuil d'importance.\n",
    "> 4. Si le seuil est trop bas, la sélection ne sera pas assez discriminante. On peut le choisir empyriquement en s'appuyant sur la performance des modèles utilisés plus tard dans ce notebook."
   ]
  },
  {
   "cell_type": "code",
   "execution_count": 90,
   "id": "ba8bf4fc",
   "metadata": {},
   "outputs": [
    {
     "data": {
      "image/png": "[encoded data removed]",
      "text/plain": [
       "<Figure size 800x640 with 1 Axes>"
      ]
     },
     "metadata": {},
     "output_type": "display_data"
    }
   ],
   "source": [
    "# Normalisation des données :\n",
    "X_norm = StandardScaler().fit_transform(X_qual)\n",
    "\n",
    "# Séparation entre données d'apprentissage et de test\n",
    "X_train, X_test, y_train, y_test = train_test_split(X_norm, y, test_size = 0.33)\n",
    "\n",
    "# Instanciation du modèle Random Forest\n",
    "clf = RandomForestClassifier(n_estimators=100)\n",
    "\n",
    "# Entrainement du modèle \n",
    "clf.fit(X_train, y_train);\n",
    "\n",
    "# Affichage de l'importance des 50 meilleures features :\n",
    "plt.figure(num=None, figsize=(10,8), dpi=80, facecolor='w', edgecolor='k')\n",
    "feat_importances = pd.Series(clf.feature_importances_, index= X_qual.columns)\n",
    "feat_importances.nlargest(50).plot(kind='barh');"
   ]
  },
  {
   "cell_type": "markdown",
   "id": "16bb9203",
   "metadata": {},
   "source": [
    "On remarque graphiquement qu'une grande majorité des données se trouvent sous le seuil d'importance 0.02 : on choisit cette valeur dans un premier temps pour la suite de l'analyse, en se conservant la possibilité de la changer selon les résultats.\n",
    "\n",
    "Edit après analyse empirique : \n",
    "\n",
    "- Le seuil fixé à 0.02 a engendré de bons résultats.\n",
    "- En le fixant à 0.01, nous avions remarqué un fort sur-apprentissage.\n",
    "- Nous avons finalement choisi de le fixer à 0.15 : ceci a légèrement réduit l'accuracy mais a grandement atténué le sur-apprentissage."
   ]
  },
  {
   "cell_type": "code",
   "execution_count": 135,
   "id": "d0f07778",
   "metadata": {
    "scrolled": false
   },
   "outputs": [
    {
     "data": {
      "text/html": [
       "<div>\n",
       "<style scoped>\n",
       "    .dataframe tbody tr th:only-of-type {\n",
       "        vertical-align: middle;\n",
       "    }\n",
       "\n",
       "    .dataframe tbody tr th {\n",
       "        vertical-align: top;\n",
       "    }\n",
       "\n",
       "    .dataframe thead th {\n",
       "        text-align: right;\n",
       "    }\n",
       "</style>\n",
       "<table border=\"1\" class=\"dataframe\">\n",
       "  <thead>\n",
       "    <tr style=\"text-align: right;\">\n",
       "      <th></th>\n",
       "      <th>bruises_f</th>\n",
       "      <th>bruises_t</th>\n",
       "      <th>odor_f</th>\n",
       "      <th>odor_n</th>\n",
       "      <th>gill-size_b</th>\n",
       "      <th>gill-size_n</th>\n",
       "      <th>gill-color_b</th>\n",
       "      <th>stalk-root_e</th>\n",
       "      <th>stalk-surface-above-ring_k</th>\n",
       "      <th>stalk-surface-below-ring_k</th>\n",
       "      <th>ring-type_l</th>\n",
       "      <th>ring-type_p</th>\n",
       "      <th>spore-print-color_h</th>\n",
       "      <th>spore-print-color_w</th>\n",
       "      <th>population_v</th>\n",
       "    </tr>\n",
       "  </thead>\n",
       "  <tbody>\n",
       "    <tr>\n",
       "      <th>0</th>\n",
       "      <td>0</td>\n",
       "      <td>1</td>\n",
       "      <td>0</td>\n",
       "      <td>0</td>\n",
       "      <td>0</td>\n",
       "      <td>1</td>\n",
       "      <td>0</td>\n",
       "      <td>1</td>\n",
       "      <td>0</td>\n",
       "      <td>0</td>\n",
       "      <td>0</td>\n",
       "      <td>1</td>\n",
       "      <td>0</td>\n",
       "      <td>0</td>\n",
       "      <td>0</td>\n",
       "    </tr>\n",
       "    <tr>\n",
       "      <th>1</th>\n",
       "      <td>0</td>\n",
       "      <td>1</td>\n",
       "      <td>0</td>\n",
       "      <td>0</td>\n",
       "      <td>1</td>\n",
       "      <td>0</td>\n",
       "      <td>0</td>\n",
       "      <td>0</td>\n",
       "      <td>0</td>\n",
       "      <td>0</td>\n",
       "      <td>0</td>\n",
       "      <td>1</td>\n",
       "      <td>0</td>\n",
       "      <td>0</td>\n",
       "      <td>0</td>\n",
       "    </tr>\n",
       "    <tr>\n",
       "      <th>2</th>\n",
       "      <td>0</td>\n",
       "      <td>1</td>\n",
       "      <td>0</td>\n",
       "      <td>0</td>\n",
       "      <td>1</td>\n",
       "      <td>0</td>\n",
       "      <td>0</td>\n",
       "      <td>0</td>\n",
       "      <td>0</td>\n",
       "      <td>0</td>\n",
       "      <td>0</td>\n",
       "      <td>1</td>\n",
       "      <td>0</td>\n",
       "      <td>0</td>\n",
       "      <td>0</td>\n",
       "    </tr>\n",
       "    <tr>\n",
       "      <th>3</th>\n",
       "      <td>0</td>\n",
       "      <td>1</td>\n",
       "      <td>0</td>\n",
       "      <td>0</td>\n",
       "      <td>0</td>\n",
       "      <td>1</td>\n",
       "      <td>0</td>\n",
       "      <td>1</td>\n",
       "      <td>0</td>\n",
       "      <td>0</td>\n",
       "      <td>0</td>\n",
       "      <td>1</td>\n",
       "      <td>0</td>\n",
       "      <td>0</td>\n",
       "      <td>0</td>\n",
       "    </tr>\n",
       "    <tr>\n",
       "      <th>4</th>\n",
       "      <td>1</td>\n",
       "      <td>0</td>\n",
       "      <td>0</td>\n",
       "      <td>1</td>\n",
       "      <td>1</td>\n",
       "      <td>0</td>\n",
       "      <td>0</td>\n",
       "      <td>1</td>\n",
       "      <td>0</td>\n",
       "      <td>0</td>\n",
       "      <td>0</td>\n",
       "      <td>0</td>\n",
       "      <td>0</td>\n",
       "      <td>0</td>\n",
       "      <td>0</td>\n",
       "    </tr>\n",
       "    <tr>\n",
       "      <th>...</th>\n",
       "      <td>...</td>\n",
       "      <td>...</td>\n",
       "      <td>...</td>\n",
       "      <td>...</td>\n",
       "      <td>...</td>\n",
       "      <td>...</td>\n",
       "      <td>...</td>\n",
       "      <td>...</td>\n",
       "      <td>...</td>\n",
       "      <td>...</td>\n",
       "      <td>...</td>\n",
       "      <td>...</td>\n",
       "      <td>...</td>\n",
       "      <td>...</td>\n",
       "      <td>...</td>\n",
       "    </tr>\n",
       "    <tr>\n",
       "      <th>8119</th>\n",
       "      <td>1</td>\n",
       "      <td>0</td>\n",
       "      <td>0</td>\n",
       "      <td>1</td>\n",
       "      <td>1</td>\n",
       "      <td>0</td>\n",
       "      <td>0</td>\n",
       "      <td>0</td>\n",
       "      <td>0</td>\n",
       "      <td>0</td>\n",
       "      <td>0</td>\n",
       "      <td>1</td>\n",
       "      <td>0</td>\n",
       "      <td>0</td>\n",
       "      <td>0</td>\n",
       "    </tr>\n",
       "    <tr>\n",
       "      <th>8120</th>\n",
       "      <td>1</td>\n",
       "      <td>0</td>\n",
       "      <td>0</td>\n",
       "      <td>1</td>\n",
       "      <td>1</td>\n",
       "      <td>0</td>\n",
       "      <td>0</td>\n",
       "      <td>0</td>\n",
       "      <td>0</td>\n",
       "      <td>0</td>\n",
       "      <td>0</td>\n",
       "      <td>1</td>\n",
       "      <td>0</td>\n",
       "      <td>0</td>\n",
       "      <td>1</td>\n",
       "    </tr>\n",
       "    <tr>\n",
       "      <th>8121</th>\n",
       "      <td>1</td>\n",
       "      <td>0</td>\n",
       "      <td>0</td>\n",
       "      <td>1</td>\n",
       "      <td>1</td>\n",
       "      <td>0</td>\n",
       "      <td>0</td>\n",
       "      <td>0</td>\n",
       "      <td>0</td>\n",
       "      <td>0</td>\n",
       "      <td>0</td>\n",
       "      <td>1</td>\n",
       "      <td>0</td>\n",
       "      <td>0</td>\n",
       "      <td>0</td>\n",
       "    </tr>\n",
       "    <tr>\n",
       "      <th>8122</th>\n",
       "      <td>1</td>\n",
       "      <td>0</td>\n",
       "      <td>0</td>\n",
       "      <td>0</td>\n",
       "      <td>0</td>\n",
       "      <td>1</td>\n",
       "      <td>1</td>\n",
       "      <td>0</td>\n",
       "      <td>0</td>\n",
       "      <td>1</td>\n",
       "      <td>0</td>\n",
       "      <td>0</td>\n",
       "      <td>0</td>\n",
       "      <td>1</td>\n",
       "      <td>1</td>\n",
       "    </tr>\n",
       "    <tr>\n",
       "      <th>8123</th>\n",
       "      <td>1</td>\n",
       "      <td>0</td>\n",
       "      <td>0</td>\n",
       "      <td>1</td>\n",
       "      <td>1</td>\n",
       "      <td>0</td>\n",
       "      <td>0</td>\n",
       "      <td>0</td>\n",
       "      <td>0</td>\n",
       "      <td>0</td>\n",
       "      <td>0</td>\n",
       "      <td>1</td>\n",
       "      <td>0</td>\n",
       "      <td>0</td>\n",
       "      <td>0</td>\n",
       "    </tr>\n",
       "  </tbody>\n",
       "</table>\n",
       "<p>8124 rows × 15 columns</p>\n",
       "</div>"
      ],
      "text/plain": [
       "      bruises_f  bruises_t  odor_f  odor_n  gill-size_b  gill-size_n  \\\n",
       "0             0          1       0       0            0            1   \n",
       "1             0          1       0       0            1            0   \n",
       "2             0          1       0       0            1            0   \n",
       "3             0          1       0       0            0            1   \n",
       "4             1          0       0       1            1            0   \n",
       "...         ...        ...     ...     ...          ...          ...   \n",
       "8119          1          0       0       1            1            0   \n",
       "8120          1          0       0       1            1            0   \n",
       "8121          1          0       0       1            1            0   \n",
       "8122          1          0       0       0            0            1   \n",
       "8123          1          0       0       1            1            0   \n",
       "\n",
       "      gill-color_b  stalk-root_e  stalk-surface-above-ring_k  \\\n",
       "0                0             1                           0   \n",
       "1                0             0                           0   \n",
       "2                0             0                           0   \n",
       "3                0             1                           0   \n",
       "4                0             1                           0   \n",
       "...            ...           ...                         ...   \n",
       "8119             0             0                           0   \n",
       "8120             0             0                           0   \n",
       "8121             0             0                           0   \n",
       "8122             1             0                           0   \n",
       "8123             0             0                           0   \n",
       "\n",
       "      stalk-surface-below-ring_k  ring-type_l  ring-type_p  \\\n",
       "0                              0            0            1   \n",
       "1                              0            0            1   \n",
       "2                              0            0            1   \n",
       "3                              0            0            1   \n",
       "4                              0            0            0   \n",
       "...                          ...          ...          ...   \n",
       "8119                           0            0            1   \n",
       "8120                           0            0            1   \n",
       "8121                           0            0            1   \n",
       "8122                           1            0            0   \n",
       "8123                           0            0            1   \n",
       "\n",
       "      spore-print-color_h  spore-print-color_w  population_v  \n",
       "0                       0                    0             0  \n",
       "1                       0                    0             0  \n",
       "2                       0                    0             0  \n",
       "3                       0                    0             0  \n",
       "4                       0                    0             0  \n",
       "...                   ...                  ...           ...  \n",
       "8119                    0                    0             0  \n",
       "8120                    0                    0             1  \n",
       "8121                    0                    0             0  \n",
       "8122                    0                    1             1  \n",
       "8123                    0                    0             0  \n",
       "\n",
       "[8124 rows x 15 columns]"
      ]
     },
     "execution_count": 135,
     "metadata": {},
     "output_type": "execute_result"
    }
   ],
   "source": [
    "# Seuil d'importance \n",
    "seuil = 0.015\n",
    "\n",
    "# Sélection des features :\n",
    "feat_selected = feat_importances[feat_importances > seuil].index\n",
    "X_selected = X_qual[X_qual.columns.intersection(feat_selected)]\n",
    "X_selected"
   ]
  },
  {
   "cell_type": "markdown",
   "id": "c150cd56",
   "metadata": {},
   "source": [
    "### Multi-corrélations\n",
    "\n",
    "Il est également pertinent d'analyser les corrélations entre les features. Lors d'une trop grande corrélation, nous retirerons une des deux features. Nous nous servirons également du facteur d'Inflation de Variance pour orienter notre choix."
   ]
  },
  {
   "cell_type": "code",
   "execution_count": 136,
   "id": "a515ab5b",
   "metadata": {
    "scrolled": false
   },
   "outputs": [
    {
     "data": {
      "image/png": "[encoded data removed]",
      "text/plain": [
       "<Figure size 1080x720 with 2 Axes>"
      ]
     },
     "metadata": {},
     "output_type": "display_data"
    }
   ],
   "source": [
    "correlations = X_selected.corr()\n",
    "masque = np.triu(np.ones_like(correlations, dtype = bool))\n",
    "\n",
    "plt.figure(figsize=(15, 10))\n",
    "sns.heatmap(correlations,\n",
    "            mask = masque,\n",
    "            cmap = 'BuPu',\n",
    "            annot = True,\n",
    "            linewidths = 0.5,\n",
    "            fmt = \".1f\")\n",
    "\n",
    "plt.title('Matrice de corrrélation',\n",
    "          fontsize = 20,\n",
    "          weight = 'semibold',\n",
    "          color = '#de573c'\n",
    "         )\n",
    "\n",
    "plt.show()"
   ]
  },
  {
   "cell_type": "code",
   "execution_count": 137,
   "id": "2f86d4a9",
   "metadata": {},
   "outputs": [
    {
     "name": "stdout",
     "output_type": "stream",
     "text": [
      "                       feature        VIF\n",
      "0                    bruises_f        inf\n",
      "1                    bruises_t        inf\n",
      "2                  gill-size_b        inf\n",
      "3                  gill-size_n        inf\n",
      "4                  ring-type_l  11.360649\n",
      "5                 gill-color_b   9.288517\n",
      "6          spore-print-color_h   7.259648\n",
      "7          spore-print-color_w   5.119809\n",
      "8                  ring-type_p   4.665827\n",
      "9                       odor_f   3.851633\n",
      "10  stalk-surface-below-ring_k   3.170938\n",
      "11                      odor_n   3.147534\n",
      "12  stalk-surface-above-ring_k   2.999349\n",
      "13                stalk-root_e   2.472199\n",
      "14                population_v   1.789076\n"
     ]
    },
    {
     "name": "stderr",
     "output_type": "stream",
     "text": [
      "C:\\Users\\erebz\\anaconda3\\envs\\data-science\\lib\\site-packages\\statsmodels\\stats\\outliers_influence.py:193: RuntimeWarning: divide by zero encountered in double_scalars\n",
      "  vif = 1. / (1. - r_squared_i)\n"
     ]
    }
   ],
   "source": [
    "def VIF(df):\n",
    "    vif = pd.DataFrame()\n",
    "    vif['feature'] = df.columns\n",
    "    values = np.array(df.values)\n",
    "    vif['VIF'] = [variance_inflation_factor(values, col) for col in range(len(df.columns))]\n",
    "    return vif\n",
    "\n",
    "vif_df = VIF(X_selected).sort_values('VIF', ascending = False, ignore_index = True)\n",
    "print(vif_df)"
   ]
  },
  {
   "cell_type": "markdown",
   "id": "cc559c52",
   "metadata": {},
   "source": [
    "Le facteur d'inflation de Variance tend vers l'infini dans le cas d'une multi-colinéarité parfaite, ou très importante. On retire les 4 features qui sont dans ce cas et celles dont le VIF dépasse 10."
   ]
  },
  {
   "cell_type": "code",
   "execution_count": 138,
   "id": "58bcdc28",
   "metadata": {},
   "outputs": [],
   "source": [
    "drop_features_vif = vif_df[vif_df['VIF'] > 10].feature \n",
    "X_selected = X_selected.drop(drop_features_vif, axis=1)"
   ]
  },
  {
   "cell_type": "code",
   "execution_count": 155,
   "id": "ab8ff334",
   "metadata": {},
   "outputs": [
    {
     "name": "stdout",
     "output_type": "stream",
     "text": [
      "Features conservées : ['odor_f' 'odor_n' 'gill-color_b' 'stalk-root_e'\n",
      " 'stalk-surface-above-ring_k' 'stalk-surface-below-ring_k' 'ring-type_p'\n",
      " 'spore-print-color_h' 'spore-print-color_w' 'population_v']\n",
      "10/116 features ont été conservées.\n"
     ]
    }
   ],
   "source": [
    "# Features conservées :\n",
    "print('Features conservées :', X_selected.columns.values)\n",
    "print('{}/{} features ont été conservées.'.format( len(X_selected.columns), len(X_qual.columns)))"
   ]
  },
  {
   "cell_type": "markdown",
   "id": "027376e7",
   "metadata": {},
   "source": [
    "Notre analyse sera portée sur les méthodes suivantes :\n",
    "- Modèle Linéaire\n",
    "- Perceptron Multi-couche\n",
    "- Random Forest\n",
    "- K plus proches voisins"
   ]
  },
  {
   "cell_type": "markdown",
   "id": "e218a9e4",
   "metadata": {},
   "source": [
    "### Découpage entre données d'apprentissage (66%) et de test (33%)"
   ]
  },
  {
   "cell_type": "code",
   "execution_count": 140,
   "id": "a3255eba",
   "metadata": {},
   "outputs": [
    {
     "name": "stdout",
     "output_type": "stream",
     "text": [
      "5443 données d'apprentissage\n",
      "2681 données de test\n"
     ]
    }
   ],
   "source": [
    "X_train, X_test, y_train, y_test = train_test_split(X_selected, y, test_size = 0.33)\n",
    "\n",
    "sc = StandardScaler()\n",
    "X_train = sc.fit_transform(X_train)\n",
    "X_test = sc.transform(X_test)\n",
    "\n",
    "print(len(X_train),'données d\\'apprentissage')\n",
    "print(len(X_test),'données de test')"
   ]
  },
  {
   "cell_type": "markdown",
   "id": "ad57f102",
   "metadata": {},
   "source": [
    "### Mesures d'évaluation"
   ]
  },
  {
   "cell_type": "code",
   "execution_count": 97,
   "id": "edd13e73",
   "metadata": {},
   "outputs": [],
   "source": [
    "def printEval(predict_train, expected_train, predict_test, expected_test):\n",
    "    _eval = precision_recall_fscore_support(expected_train, predict_train, average=None)\n",
    "    print(\"Train\")\n",
    "    print(\"  - Precision 0 :\", _eval[0][0].round(3))\n",
    "    print(\"  - Precision 1 :\", _eval[0][1].round(3))\n",
    "    print(\"  - Recall 0 :\", _eval[1][0].round(3))\n",
    "    print(\"  - Recall 1 :\", _eval[1][1].round(3))\n",
    "    print(\"  - F-mesure 0 :\", _eval[2][0].round(3))\n",
    "    print(\"  - F-mesure 1 :\", _eval[2][1].round(3))\n",
    "    \n",
    "    _eval = precision_recall_fscore_support(expected_test, predict_test, average=None)\n",
    "    print(\"Test\")\n",
    "    print(\"  - Precision 0 :\", _eval[0][0].round(3))\n",
    "    print(\"  - Precision 1 :\", _eval[0][1].round(3))\n",
    "    print(\"  - Recall 0 :\", _eval[1][0].round(3))\n",
    "    print(\"  - Recall 1 :\", _eval[1][1].round(3))\n",
    "    print(\"  - F-mesure 0 :\", _eval[2][0].round(3))\n",
    "    print(\"  - F-mesure 1 :\", _eval[2][1].round(3))"
   ]
  },
  {
   "cell_type": "markdown",
   "id": "a8e22431",
   "metadata": {},
   "source": [
    "## Modèle linéaire\n",
    "\n",
    "### Entrainement"
   ]
  },
  {
   "cell_type": "code",
   "execution_count": 141,
   "id": "ebd6165d",
   "metadata": {
    "scrolled": false
   },
   "outputs": [
    {
     "name": "stdout",
     "output_type": "stream",
     "text": [
      "Train: 0.951\n",
      "Test: 0.960\n"
     ]
    }
   ],
   "source": [
    "# Initialisation du modèle\n",
    "lda = LinearDiscriminantAnalysis()\n",
    "\n",
    "# Entraînement du modèle\n",
    "lda.fit(X_train, y_train)\n",
    "\n",
    "# Evaluation des performances\n",
    "ldaScore_train = \"%.3f\" % lda.score(X_train, y_train)\n",
    "ldaScore_test = \"%.3f\" % lda.score(X_test, y_test)\n",
    "\n",
    "print(\"Train:\",ldaScore_train)\n",
    "print(\"Test:\",ldaScore_test)"
   ]
  },
  {
   "cell_type": "code",
   "execution_count": 158,
   "id": "09052e6c",
   "metadata": {},
   "outputs": [
    {
     "name": "stdout",
     "output_type": "stream",
     "text": [
      "Train\n",
      "  - Precision 0 : 0.919\n",
      "  - Precision 1 : 0.994\n",
      "  - Recall 0 : 0.995\n",
      "  - Recall 1 : 0.904\n",
      "  - F-mesure 0 : 0.955\n",
      "  - F-mesure 1 : 0.947\n",
      "Test\n",
      "  - Precision 0 : 0.932\n",
      "  - Precision 1 : 0.992\n",
      "  - Recall 0 : 0.993\n",
      "  - Recall 1 : 0.926\n",
      "  - F-mesure 0 : 0.962\n",
      "  - F-mesure 1 : 0.958\n"
     ]
    }
   ],
   "source": [
    "printEval(lda.predict(X_train), y_train, lda.predict(X_test), y_test)"
   ]
  },
  {
   "cell_type": "markdown",
   "id": "8b88ee65",
   "metadata": {},
   "source": [
    "### Courbe ROC"
   ]
  },
  {
   "cell_type": "code",
   "execution_count": 143,
   "id": "660c603d",
   "metadata": {},
   "outputs": [
    {
     "data": {
      "image/png": "[encoded data removed]",
      "text/plain": [
       "<Figure size 1080x360 with 1 Axes>"
      ]
     },
     "metadata": {},
     "output_type": "display_data"
    }
   ],
   "source": [
    "plt.figure(figsize=(15,5))\n",
    "\n",
    "plt.subplot(1, 2, 1)\n",
    "# AUC-ROC des données train :\n",
    "y_pred_LDA_train = lda.predict_proba(X_train)[::,1]\n",
    "fpr_LDA_train, tpr_LDA_train, _ = roc_curve(y_train, y_pred_LDA_train)\n",
    "auc_LDA_train = roc_auc_score(y_train, y_pred_LDA_train)\n",
    "\n",
    "# AUC-ROC des données test :\n",
    "y_pred_LDA = lda.predict_proba(X_test)[::,1]\n",
    "fpr_LDA, tpr_LDA, _ = roc_curve(y_test, y_pred_LDA)\n",
    "auc_LDA = roc_auc_score(y_test, y_pred_LDA)\n",
    "\n",
    "# Affichage courbe ROC + AUC\n",
    "plt.plot(fpr_LDA_train,tpr_LDA_train,label=\"Modèle linéaire (train), auc=\"+str(auc_LDA_train))\n",
    "plt.plot(fpr_LDA,tpr_LDA,label=\"Modèle linéaire (test), auc=\"+str(auc_LDA))\n",
    "plt.legend(loc=4);"
   ]
  },
  {
   "cell_type": "markdown",
   "id": "133982b9",
   "metadata": {},
   "source": [
    "## Random Forest\n",
    "\n",
    "Nous utilisons à nouveau un Random Forest. Lors de la sélection de variable, la précision (train/test) était de 100% car le trop grand nombre de feature a engendré un sur-apprentissage. On remarquera que cet effet s'est estompé après la sélection de feature.\n",
    "\n",
    "### Entrainement"
   ]
  },
  {
   "cell_type": "code",
   "execution_count": 144,
   "id": "7c285e0f",
   "metadata": {},
   "outputs": [
    {
     "name": "stdout",
     "output_type": "stream",
     "text": [
      "Train: 0.965\n",
      "Test: 0.967\n"
     ]
    }
   ],
   "source": [
    "# Instanciation du modèle Random Forest\n",
    "RF = RandomForestClassifier(n_estimators=100)\n",
    "\n",
    "# Entrainement du modèle \n",
    "RF.fit(X_train, y_train);\n",
    "\n",
    "# Evaluation des performances \n",
    "RF_Score_train = \"%.3f\" % RF.score(X_train, y_train)\n",
    "RF_Score_test = \"%.3f\" % RF.score(X_test, y_test)\n",
    "\n",
    "print(\"Train:\",RF_Score_train)\n",
    "print(\"Test:\",RF_Score_test)"
   ]
  },
  {
   "cell_type": "code",
   "execution_count": 157,
   "id": "0f603b89",
   "metadata": {
    "scrolled": false
   },
   "outputs": [
    {
     "name": "stdout",
     "output_type": "stream",
     "text": [
      "Train\n",
      "  - Precision 0 : 0.955\n",
      "  - Precision 1 : 0.977\n",
      "  - Recall 0 : 0.979\n",
      "  - Recall 1 : 0.949\n",
      "  - F-mesure 0 : 0.967\n",
      "  - F-mesure 1 : 0.963\n",
      "Test\n",
      "  - Precision 0 : 0.962\n",
      "  - Precision 1 : 0.972\n",
      "  - Recall 0 : 0.973\n",
      "  - Recall 1 : 0.961\n",
      "  - F-mesure 0 : 0.967\n",
      "  - F-mesure 1 : 0.966\n"
     ]
    }
   ],
   "source": [
    "printEval(RF.predict(X_train), y_train, RF.predict(X_test), y_test)"
   ]
  },
  {
   "cell_type": "markdown",
   "id": "995f3825",
   "metadata": {},
   "source": [
    "### Courbe ROC"
   ]
  },
  {
   "cell_type": "code",
   "execution_count": 146,
   "id": "5ea169c7",
   "metadata": {},
   "outputs": [
    {
     "data": {
      "image/png": "[encoded data removed]",
      "text/plain": [
       "<Figure size 1080x360 with 1 Axes>"
      ]
     },
     "metadata": {},
     "output_type": "display_data"
    }
   ],
   "source": [
    "plt.figure(figsize=(15,5))\n",
    "\n",
    "plt.subplot(1, 2, 1)\n",
    "# AUC-ROC des données train :\n",
    "y_pred_RF_train = RF.predict_proba(X_train)[::,1]\n",
    "fpr_RF_train, tpr_RF_train, _ = roc_curve(y_train, y_pred_RF_train)\n",
    "auc_RF_train = roc_auc_score(y_train, y_pred_RF_train)\n",
    "\n",
    "# AUC-ROC des données test :\n",
    "y_pred_RF_test = RF.predict_proba(X_test)[::,1]\n",
    "fpr_RF, tpr_RF, _ = roc_curve(y_test, y_pred_RF_test)\n",
    "auc_RF = roc_auc_score(y_test, y_pred_RF_test)\n",
    "\n",
    "# Affichage courbe ROC + AUC\n",
    "plt.plot(fpr_RF_train,tpr_RF_train,label=\"Random Forest (train), auc=\"+str(auc_RF_train))\n",
    "plt.plot(fpr_RF,tpr_RF,label=\"Random Forest (test), auc=\"+str(auc_RF))\n",
    "plt.legend(loc=4);"
   ]
  },
  {
   "cell_type": "markdown",
   "id": "2b7bcd6b",
   "metadata": {},
   "source": [
    "## Modèle PMC\n",
    "### Entrainement"
   ]
  },
  {
   "cell_type": "code",
   "execution_count": 147,
   "id": "8a029345",
   "metadata": {},
   "outputs": [
    {
     "name": "stdout",
     "output_type": "stream",
     "text": [
      "PMC par défaut :\n",
      " - Train: 0.965\n",
      " - Test: 0.967\n"
     ]
    }
   ],
   "source": [
    "# PMC par défaut\n",
    "defaultPMC = MLPClassifier(max_iter=1500)\n",
    "\n",
    "# Entrainement\n",
    "defaultPMC.fit(X_train, y_train)\n",
    "\n",
    "# Evaluation des performances\n",
    "defaultPMC_score_train = \"%.3f\" % defaultPMC.score(X_train, y_train)\n",
    "defaultPMC_score_test = \"%.3f\" % defaultPMC.score(X_test, y_test)\n",
    "\n",
    "print(\"PMC par défaut :\")\n",
    "print(\" - Train:\",defaultPMC_score_train)\n",
    "print(\" - Test:\",defaultPMC_score_test)"
   ]
  },
  {
   "cell_type": "code",
   "execution_count": 148,
   "id": "62e15b7c",
   "metadata": {},
   "outputs": [
    {
     "name": "stdout",
     "output_type": "stream",
     "text": [
      "PMC personnalisé :\n",
      " - Train: 0.965\n",
      " - Test: 0.967\n"
     ]
    }
   ],
   "source": [
    "# PMC personnalisé\n",
    "modelPMC = MLPClassifier(activation='relu', max_iter=1500, learning_rate_init=1e-5, alpha=1e-2,\n",
    "                         epsilon = 1e-10, hidden_layer_sizes=(128, 64), solver='adam')\n",
    "\n",
    "# Entrainement\n",
    "modelPMC.fit(X_train, y_train)\n",
    "\n",
    "# Evaluation des performances\n",
    "modelPMC_score_train = \"%.3f\" % modelPMC.score(X_train, y_train)\n",
    "modelPMC_score_test = \"%.3f\" % modelPMC.score(X_test, y_test)\n",
    "\n",
    "print(\"PMC personnalisé :\")\n",
    "print(\" - Train:\",modelPMC_score_train)\n",
    "print(\" - Test:\",modelPMC_score_test)"
   ]
  },
  {
   "cell_type": "code",
   "execution_count": 156,
   "id": "a30a864c",
   "metadata": {
    "scrolled": true
   },
   "outputs": [
    {
     "name": "stdout",
     "output_type": "stream",
     "text": [
      "Default PMC : \n",
      "Train\n",
      "  - Precision 0 : 0.955\n",
      "  - Precision 1 : 0.977\n",
      "  - Recall 0 : 0.979\n",
      "  - Recall 1 : 0.949\n",
      "  - F-mesure 0 : 0.967\n",
      "  - F-mesure 1 : 0.963\n",
      "Test\n",
      "  - Precision 0 : 0.962\n",
      "  - Precision 1 : 0.972\n",
      "  - Recall 0 : 0.973\n",
      "  - Recall 1 : 0.961\n",
      "  - F-mesure 0 : 0.967\n",
      "  - F-mesure 1 : 0.966\n",
      "\n",
      "PMC personnalisé : \n",
      "Train\n",
      "  - Precision 0 : 0.955\n",
      "  - Precision 1 : 0.977\n",
      "  - Recall 0 : 0.979\n",
      "  - Recall 1 : 0.949\n",
      "  - F-mesure 0 : 0.967\n",
      "  - F-mesure 1 : 0.963\n",
      "Test\n",
      "  - Precision 0 : 0.962\n",
      "  - Precision 1 : 0.972\n",
      "  - Recall 0 : 0.973\n",
      "  - Recall 1 : 0.961\n",
      "  - F-mesure 0 : 0.967\n",
      "  - F-mesure 1 : 0.966\n"
     ]
    }
   ],
   "source": [
    "print(\"Default PMC : \")\n",
    "printEval(defaultPMC.predict(X_train), y_train, defaultPMC.predict(X_test), y_test)\n",
    "print(\"\\nPMC personnalisé : \")\n",
    "printEval(modelPMC.predict(X_train), y_train, modelPMC.predict(X_test), y_test)"
   ]
  },
  {
   "cell_type": "markdown",
   "id": "3523267a",
   "metadata": {},
   "source": [
    "### Courbe ROC"
   ]
  },
  {
   "cell_type": "code",
   "execution_count": 150,
   "id": "ae8cbfb1",
   "metadata": {},
   "outputs": [
    {
     "data": {
      "image/png": "[encoded data removed]",
      "text/plain": [
       "<Figure size 1080x360 with 2 Axes>"
      ]
     },
     "metadata": {},
     "output_type": "display_data"
    }
   ],
   "source": [
    "plt.figure(figsize=(15,5))\n",
    "\n",
    "# AUC-ROC des données train :\n",
    "y_pred_DefaultPMC_train = defaultPMC.predict_proba(X_train)[::,1]\n",
    "y_pred_ModelPMC_train = modelPMC.predict_proba(X_train)[::,1]\n",
    "fpr_DefaultPMC_train, tpr_DefaultPMC_train, _ = roc_curve(y_train,  y_pred_DefaultPMC_train)\n",
    "fpr_ModelPMC_train, tpr_ModelPMC_train, _ = roc_curve(y_train,  y_pred_ModelPMC_train)\n",
    "auc_DefaultPMC_train = roc_auc_score(y_train, y_pred_DefaultPMC_train)\n",
    "auc_ModelPMC_train = roc_auc_score(y_train, y_pred_ModelPMC_train)\n",
    "\n",
    "# AUC-ROC des données test :\n",
    "y_pred_DefaultPMC = defaultPMC.predict_proba(X_test)[::,1]\n",
    "y_pred_ModelPMC = modelPMC.predict_proba(X_test)[::,1]\n",
    "fpr_DefaultPMC, tpr_DefaultPMC, _ = roc_curve(y_test,  y_pred_DefaultPMC)\n",
    "fpr_ModelPMC, tpr_ModelPMC, _ = roc_curve(y_test,  y_pred_ModelPMC)\n",
    "auc_DefaultPMC = roc_auc_score(y_test, y_pred_DefaultPMC)\n",
    "auc_ModelPMC = roc_auc_score(y_test, y_pred_ModelPMC)\n",
    "\n",
    "# Affichage courbe ROC + AUC\n",
    "plt.subplot(1, 2, 1)\n",
    "plt.plot(fpr_DefaultPMC_train,tpr_DefaultPMC_train,label=\"Default (train), auc=\"+str(auc_DefaultPMC_train))\n",
    "plt.plot(fpr_DefaultPMC,tpr_DefaultPMC,label=\"Default (test), auc=\"+str(auc_DefaultPMC))\n",
    "plt.title(\"AUC-ROC (PMC par défaut)\")\n",
    "plt.legend(loc=4)\n",
    "\n",
    "plt.subplot(1, 2, 2)\n",
    "plt.plot(fpr_ModelPMC_train,tpr_ModelPMC_train,label=\"Tuned (train), auc=\"+str(auc_ModelPMC_train))\n",
    "plt.plot(fpr_ModelPMC,tpr_ModelPMC,label=\"Tuned (test), auc=\"+str(auc_ModelPMC))\n",
    "plt.title(\"AUC-ROC (PMC personnalisé)\")\n",
    "plt.legend(loc=4);"
   ]
  },
  {
   "cell_type": "markdown",
   "id": "ca8dc1d9",
   "metadata": {},
   "source": [
    "## K-Nearest Neighbors\n",
    "### Entrainement"
   ]
  },
  {
   "cell_type": "code",
   "execution_count": 151,
   "id": "ed4d3857",
   "metadata": {},
   "outputs": [
    {
     "name": "stdout",
     "output_type": "stream",
     "text": [
      "PMC personnalisé :\n",
      " - Train: 0.965\n",
      " - Test: 0.967\n"
     ]
    }
   ],
   "source": [
    "# Initialisation du modèle\n",
    "knn = KNN()\n",
    "\n",
    "# Entrainement\n",
    "knn.fit(X_train,y_train)\n",
    "\n",
    "# Evaluation des performances\n",
    "knn_score_train = \"%.3f\" % knn.score(X_train, y_train)\n",
    "knn_score_test = \"%.3f\" % knn.score(X_test, y_test)\n",
    "\n",
    "print(\"PMC personnalisé :\")\n",
    "print(\" - Train:\",knn_score_train)\n",
    "print(\" - Test:\",knn_score_test)"
   ]
  },
  {
   "cell_type": "markdown",
   "id": "496d6fff",
   "metadata": {},
   "source": [
    "### Courbe ROC"
   ]
  },
  {
   "cell_type": "code",
   "execution_count": 152,
   "id": "6ab2a8da",
   "metadata": {
    "scrolled": true
   },
   "outputs": [
    {
     "data": {
      "image/png": "[encoded data removed]",
      "text/plain": [
       "<Figure size 1080x360 with 1 Axes>"
      ]
     },
     "metadata": {},
     "output_type": "display_data"
    }
   ],
   "source": [
    "plt.figure(figsize=(15,5))\n",
    "\n",
    "plt.subplot(1, 2, 1)\n",
    "# AUC-ROC des données train :\n",
    "y_pred_KNN_train = knn.predict_proba(X_train)[::,1]\n",
    "fpr_KNN_train, tpr_KNN_train, _ = roc_curve(y_train, y_pred_KNN_train)\n",
    "auc_KNN_train = roc_auc_score(y_train, y_pred_KNN_train)\n",
    "\n",
    "# AUC-ROC des données test :\n",
    "y_pred_KNN_test = knn.predict_proba(X_test)[::,1]\n",
    "fpr_KNN, tpr_KNN, _ = roc_curve(y_test, y_pred_KNN_test)\n",
    "auc_KNN = roc_auc_score(y_test, y_pred_KNN_test)\n",
    "\n",
    "# Affichage courbe ROC + AUC\n",
    "plt.plot(fpr_KNN_train,tpr_KNN_train,label=\"K-Nearest Neighbor (train), auc=\"+str(auc_KNN_train))\n",
    "plt.plot(fpr_KNN,tpr_KNN,label=\"K-Nearest Neighbor (test), auc=\"+str(auc_KNN))\n",
    "plt.legend(loc=4);"
   ]
  },
  {
   "cell_type": "markdown",
   "id": "d577dee6",
   "metadata": {},
   "source": [
    "## Résultats"
   ]
  },
  {
   "cell_type": "code",
   "execution_count": 153,
   "id": "1285abf6",
   "metadata": {
    "scrolled": true
   },
   "outputs": [
    {
     "data": {
      "image/png": "[encoded data removed]",
      "text/plain": [
       "<Figure size 432x288 with 1 Axes>"
      ]
     },
     "metadata": {},
     "output_type": "display_data"
    }
   ],
   "source": [
    "x = [\"Modèle linéaire\", \"Default PMC\", \"Tuned PMC\", \"Random Forest\", \"KNN\"]\n",
    "train_scores = [ldaScore_train, defaultPMC_score_train, modelPMC_score_train, RF_Score_train, knn_score_train]\n",
    "test_scores = [ldaScore_test, defaultPMC_score_test, modelPMC_score_test, RF_Score_test, knn_score_test]\n",
    "\n",
    "df = pd.DataFrame(data={'train': train_scores, 'test': test_scores}, index=x)\n",
    "df=df.astype(float)\n",
    "ax = df.plot(kind='bar', rot=0, title='Comparaison des précisions', figsize=(6, 4))\n",
    "ax.margins(y=0.1)\n",
    "ax.set_ylim(0.9, 1.0);"
   ]
  },
  {
   "cell_type": "code",
   "execution_count": 154,
   "id": "62d2299f",
   "metadata": {
    "scrolled": true
   },
   "outputs": [
    {
     "data": {
      "image/png": "[encoded data removed]",
      "text/plain": [
       "<Figure size 1080x360 with 1 Axes>"
      ]
     },
     "metadata": {},
     "output_type": "display_data"
    }
   ],
   "source": [
    "plt.figure(figsize=(15,5))\n",
    "\n",
    "plt.subplot(1, 2, 1)\n",
    "plt.plot(fpr_LDA,tpr_LDA,label=\"Modèle linéaire, auc=\"+str(auc_LDA))\n",
    "plt.plot(fpr_DefaultPMC,tpr_DefaultPMC,label=\"Default PMC, auc=\"+str(auc_DefaultPMC))\n",
    "plt.plot(fpr_ModelPMC,tpr_ModelPMC,label=\"Tuned PMC, auc=\"+str(auc_ModelPMC))\n",
    "plt.plot(fpr_RF,tpr_RF,label=\"Random Forest, auc=\"+str(auc_RF))\n",
    "plt.plot(fpr_KNN,tpr_KNN,label=\"K-Nearest Neighbor, auc=\"+str(auc_KNN))\n",
    "plt.legend(loc=4)\n",
    "plt.title(\"Comparaison AUC-ROC (données test)\");"
   ]
  },
  {
   "cell_type": "markdown",
   "id": "e4487c01",
   "metadata": {},
   "source": [
    "**Observations** :\n",
    "\n",
    "- Les modèles de machine learning ont fourni des résultats très similaires : l'accuracy sur les données test est de **96%**. Le modèle linéaire est le moins performant.\n",
    "- La sélection de feature basée sur la multi-colinéarité et l'importance des variables du Random Forest a permis d'améliorer la généralisation. Nous obtenons ainsi un ensemble de modèles dont le sur-apprentissage a été contrôlé."
   ]
  }
 ],
 "metadata": {
  "kernelspec": {
   "display_name": "Python 3",
   "language": "python",
   "name": "python3"
  },
  "language_info": {
   "codemirror_mode": {
    "name": "ipython",
    "version": 3
   },
   "file_extension": ".py",
   "mimetype": "text/x-python",
   "name": "python",
   "nbconvert_exporter": "python",
   "pygments_lexer": "ipython3",
   "version": "3.6.13"
  }
 },
 "nbformat": 4,
 "nbformat_minor": 5
}
